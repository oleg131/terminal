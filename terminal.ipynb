{
 "cells": [
  {
   "cell_type": "code",
   "execution_count": 48,
   "metadata": {
    "collapsed": false
   },
   "outputs": [],
   "source": [
    "import time, sys, random\n",
    "import numpy as np"
   ]
  },
  {
   "cell_type": "code",
   "execution_count": 66,
   "metadata": {
    "collapsed": true
   },
   "outputs": [],
   "source": [
    "typing_speed = 50 #wpm\n",
    "def slow_type(t):\n",
    "    for l in t:\n",
    "        sys.stdout.write(l)\n",
    "        sys.stdout.flush()\n",
    "        time.sleep(0.1*10.0/typing_speed)"
   ]
  },
  {
   "cell_type": "code",
   "execution_count": 43,
   "metadata": {
    "collapsed": false
   },
   "outputs": [],
   "source": [
    "texts = ['Performing DNS Lookups for',\n",
    "    'Searching ',\n",
    "    'Analyzing ',\n",
    "    'Estimating Approximate Location of ',\n",
    "    'Compressing ',\n",
    "    'Requesting Authorization From : ',\n",
    "    'wget -a -t ',\n",
    "    'tar -xzf ',\n",
    "    'Entering Location ',\n",
    "    'Compilation Started of ',\n",
    "    'Downloading ',\n",
    "    'Data Structure',\n",
    "    'http://wwjd.com?au&2',\n",
    "    'Texture',\n",
    "    'TPS Reports',\n",
    "    ' .... Searching ... ',\n",
    "    'http://zanb.se/?23&88&far=2',\n",
    "    'http://ab.ret45-33/?timing=1ww',\n",
    "    'Authorizing ',\n",
    "    'Authorized...',\n",
    "    'Access Granted..',\n",
    "    'Going Deeper....',\n",
    "    'Compression Complete.',\n",
    "    'Compilation of Data Structures Complete..',\n",
    "    'Entering Security Console...',\n",
    "    'Encryption Unsuccesful Attempting Retry...',\n",
    "    'Waiting for response...',\n",
    "    '....Searching...',\n",
    "    'Calculating Space Requirements '\n",
    "  ]"
   ]
  },
  {
   "cell_type": "code",
   "execution_count": 44,
   "metadata": {
    "collapsed": true
   },
   "outputs": [],
   "source": []
  },
  {
   "cell_type": "code",
   "execution_count": 68,
   "metadata": {
    "collapsed": false
   },
   "outputs": [
    {
     "name": "stdout",
     "output_type": "stream",
     "text": [
      "Performing DNS Lookups for 0.7288 / 1.2466 / 1.3921 / -1.029\n",
      "Searching  0.4076 / -0.425 / 0.4513\n",
      "Analyzing  1.6097 / 0.697\n",
      "Estimating Approximate Location of  0.349 / -1.5289\n",
      "Compressing  \n",
      "Requesting Authorization From :  0.0341 / -0.7374 / 0.8065 / 1.0059\n",
      "wget -a -t  -2.0873\n",
      "tar -xzf  \n",
      "Entering Location  -0.3703 / 0.0221\n",
      "Compilation Started of  0.8896 / 1.9045 / 0.9221 / 1.0066\n"
     ]
    }
   ],
   "source": [
    "for i in range(10):\n",
    "    i = np.random.randint(0, 10)\n",
    "    t = texts[i]\n",
    "    n = ' / '.join(np.random.normal(0, 1, np.random.randint(0, 5)).round(4).astype(str))\n",
    "    slow_type(t)\n",
    "    sys.stdout.write(' ' + n)\n",
    "    print\n",
    "    time.sleep(np.random.uniform(0, 0.5))"
   ]
  },
  {
   "cell_type": "code",
   "execution_count": 92,
   "metadata": {
    "collapsed": false
   },
   "outputs": [],
   "source": [
    "from bs4 import BeautifulSoup\n",
    "import urllib2"
   ]
  },
  {
   "cell_type": "code",
   "execution_count": 112,
   "metadata": {
    "collapsed": false
   },
   "outputs": [],
   "source": [
    "ID = np.random.randint(1, 130000)\n",
    "url = 'http://codereview.stackexchange.com/questions/{}'.format(ID)\n",
    "# url = 'http://codereview.stackexchange.com/questions/130088/project-euler-problem-11-largest-product-of-4-adjacent-numbers'\n",
    "response = urllib2.urlopen(url)\n",
    "source = response.read()\n",
    "soup = BeautifulSoup(source, features='html')"
   ]
  },
  {
   "cell_type": "code",
   "execution_count": 114,
   "metadata": {
    "collapsed": false
   },
   "outputs": [
    {
     "name": "stdout",
     "output_type": "stream",
     "text": [
      "   [ServiceContract]\n",
      "    public interface IService1\n",
      "    {\n",
      "        [OperationContract]\n",
      "        string GetData(int value);\n",
      "    }\n",
      "\n",
      "    [ServiceContract]\n",
      "    public interface IService2\n",
      "    {\n",
      "        [OperationContract]\n",
      "        st"
     ]
    },
    {
     "ename": "KeyboardInterrupt",
     "evalue": "",
     "output_type": "error",
     "traceback": [
      "\u001b[1;31m---------------------------------------------------------------------------\u001b[0m",
      "\u001b[1;31mKeyboardInterrupt\u001b[0m                         Traceback (most recent call last)",
      "\u001b[1;32m<ipython-input-114-cdf6a699d146>\u001b[0m in \u001b[0;36m<module>\u001b[1;34m()\u001b[0m\n\u001b[0;32m      1\u001b[0m \u001b[1;32mfor\u001b[0m \u001b[0mcode\u001b[0m \u001b[1;32min\u001b[0m \u001b[0msoup\u001b[0m\u001b[1;33m.\u001b[0m\u001b[0mfindAll\u001b[0m\u001b[1;33m(\u001b[0m\u001b[1;34m'code'\u001b[0m\u001b[1;33m)\u001b[0m\u001b[1;33m:\u001b[0m\u001b[1;33m\u001b[0m\u001b[0m\n\u001b[1;32m----> 2\u001b[1;33m     \u001b[0mslow_type\u001b[0m\u001b[1;33m(\u001b[0m\u001b[0mcode\u001b[0m\u001b[1;33m.\u001b[0m\u001b[0mtext\u001b[0m\u001b[1;33m)\u001b[0m\u001b[1;33m\u001b[0m\u001b[0m\n\u001b[0m",
      "\u001b[1;32m<ipython-input-66-ff1e9a01e531>\u001b[0m in \u001b[0;36mslow_type\u001b[1;34m(t)\u001b[0m\n\u001b[0;32m      4\u001b[0m         \u001b[0msys\u001b[0m\u001b[1;33m.\u001b[0m\u001b[0mstdout\u001b[0m\u001b[1;33m.\u001b[0m\u001b[0mwrite\u001b[0m\u001b[1;33m(\u001b[0m\u001b[0ml\u001b[0m\u001b[1;33m)\u001b[0m\u001b[1;33m\u001b[0m\u001b[0m\n\u001b[0;32m      5\u001b[0m         \u001b[0msys\u001b[0m\u001b[1;33m.\u001b[0m\u001b[0mstdout\u001b[0m\u001b[1;33m.\u001b[0m\u001b[0mflush\u001b[0m\u001b[1;33m(\u001b[0m\u001b[1;33m)\u001b[0m\u001b[1;33m\u001b[0m\u001b[0m\n\u001b[1;32m----> 6\u001b[1;33m         \u001b[0mtime\u001b[0m\u001b[1;33m.\u001b[0m\u001b[0msleep\u001b[0m\u001b[1;33m(\u001b[0m\u001b[1;36m0.1\u001b[0m\u001b[1;33m*\u001b[0m\u001b[1;36m10.0\u001b[0m\u001b[1;33m/\u001b[0m\u001b[0mtyping_speed\u001b[0m\u001b[1;33m)\u001b[0m\u001b[1;33m\u001b[0m\u001b[0m\n\u001b[0m",
      "\u001b[1;31mKeyboardInterrupt\u001b[0m: "
     ]
    }
   ],
   "source": [
    "for code in soup.findAll('code'):\n",
    "    slow_type(code.text)"
   ]
  },
  {
   "cell_type": "code",
   "execution_count": 104,
   "metadata": {
    "collapsed": false
   },
   "outputs": [
    {
     "data": {
      "text/plain": [
       "1"
      ]
     },
     "execution_count": 104,
     "metadata": {},
     "output_type": "execute_result"
    }
   ],
   "source": [
    "len(soup.code)"
   ]
  },
  {
   "cell_type": "code",
   "execution_count": null,
   "metadata": {
    "collapsed": true
   },
   "outputs": [],
   "source": [
    "id = rand(1..6000)\n",
    "        url = \"#{site}/a/#{id}\"\n",
    "        page = Nokogiri::HTML(open(url))\n",
    "        code = page.css('code')[0].text"
   ]
  }
 ],
 "metadata": {
  "kernelspec": {
   "display_name": "Python 2",
   "language": "python",
   "name": "python2"
  },
  "language_info": {
   "codemirror_mode": {
    "name": "ipython",
    "version": 2
   },
   "file_extension": ".py",
   "mimetype": "text/x-python",
   "name": "python",
   "nbconvert_exporter": "python",
   "pygments_lexer": "ipython2",
   "version": "2.7.10"
  }
 },
 "nbformat": 4,
 "nbformat_minor": 0
}
